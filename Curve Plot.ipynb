{
 "cells": [
  {
   "cell_type": "markdown",
   "id": "0a7d5969",
   "metadata": {},
   "source": [
    "## Henry Code - You already have ## "
   ]
  },
  {
   "cell_type": "code",
   "execution_count": null,
   "id": "e2fdf2ce",
   "metadata": {},
   "outputs": [],
   "source": [
    "## import pandas\n",
    "import pandas as pd\n",
    "\n",
    "## read file into dat aframe\n",
    "df = pd.read_table('/Users/jakevazquez18/Desktop/Axel_Scripts/new_out_ccf/out.ccf', names=['barcode', 'locus'])\n",
    "df = df.groupby('barcode')['locus'].apply(list).reset_index()\n",
    "df['number of duplicates'] = df['locus'].str.len()\n",
    "df['locus'] = df['locus'].apply(lambda x: list(set(x)))\n",
    "df['number of ccfs'] = df['locus'].str.len()\n",
    "df.sort_values(by='number of duplicates', ascending=False)\n",
    "\n",
    "## view the dataframe\n",
    "df"
   ]
  },
  {
   "cell_type": "markdown",
   "id": "a00464c0",
   "metadata": {},
   "source": [
    "## DO NOT EDIT THIS CELL - JUST RUN TO SAVE THE VARIABLES FOR PLOTTING"
   ]
  },
  {
   "cell_type": "code",
   "execution_count": null,
   "id": "38669848",
   "metadata": {},
   "outputs": [],
   "source": [
    "import numpy as np\n",
    "\n",
    "## 50\n",
    "hist, bin_edges = np.histogram(df['number of duplicates'], bins = 50, range = [1, 50])\n",
    "\n",
    "bin_edges = np.round(bin_edges,0)\n",
    "\n",
    "bins = list(range(1, 51))\n",
    "\n",
    "products = []\n",
    "for h, b in zip(hist, bins):\n",
    "    products.append(h * b)\n",
    "    \n",
    "df_b4_dup = pd.DataFrame(list(zip(bins, products)),\n",
    "               columns =['bins', 'read_count'])"
   ]
  },
  {
   "cell_type": "markdown",
   "id": "b4a7a5be",
   "metadata": {},
   "source": [
    "## THIS IS WHERE YOU CAN CHANGE BIN AND RANGE VALUES"
   ]
  },
  {
   "cell_type": "code",
   "execution_count": null,
   "id": "590d0ea0",
   "metadata": {},
   "outputs": [],
   "source": [
    "## use numpy (np) to create histogram values and bin edges automatically \n",
    "hist2, bin_edges2 = np.histogram(df['number of duplicates'], bins =  3000, range = [1, 250000])\n",
    "\n",
    "## round the bin edges up\n",
    "bin_edges2 = np.round(bin_edges2,0)\n",
    "\n",
    "## set bin edges manually if needed\n",
    "#bins2 = list(range(1, 3001))\n",
    "\n",
    "## create empty list that we will add to\n",
    "products2 = []\n",
    "\n",
    "## for each element in both histogram and bin edges list, multiply them together and add to products list\n",
    "for h2, b2 in zip(hist2, bin_edges2):\n",
    "    products2.append(h2 * b2)\n",
    "    \n",
    "## create dataframe of product\n",
    "df_b4_dup2 = pd.DataFrame(list(zip(bin_edges2, products2)),\n",
    "               columns =['bins', 'read_count'])\n",
    "\n",
    "## using dictionary to convert specific columns\n",
    "convert_dict_dup = {'bins': float,\n",
    "                'read_count': int}\n",
    "\n",
    "## change the type of each column by passing them through the dictionary above\n",
    "df_b4_dup = df_b4_dup.astype(convert_dict_dup)\n",
    "\n",
    "print(\"Hist:\\n\", hist2)\n",
    "print(\"Edges:\\n\", bin_edges2)\n",
    "print(\"Hist values * Bins = \", products2)\n",
    "df_b4_dup2"
   ]
  },
  {
   "cell_type": "markdown",
   "id": "c8dc8242",
   "metadata": {},
   "source": [
    "## MATH TO CALCULATE CUMALITIVE SUM AND PERCENTAGES FOR PLOTTING"
   ]
  },
  {
   "cell_type": "code",
   "execution_count": null,
   "id": "850fe31a",
   "metadata": {},
   "outputs": [],
   "source": [
    "## percentage curve\n",
    "\n",
    "## 1. Calculate total # of reads (unique barcodes)\n",
    "## 2. Create rolling sum column with 1st row being first row of read_count column (NOT NaN)\n",
    "## 3. Create Percentage column each row of sum column divided by total number of reads * 100\n",
    "## 4. Plot as line to see curve\n",
    "\n",
    "# counting unique values by counting unique barcodes\n",
    "#total_rc = len(pd.unique(df['barcode']))\n",
    "\n",
    "## round the read count to the nearest number\n",
    "df_b4_dup2['read_count'] = round(df_b4_dup2['read_count'])\n",
    "\n",
    "## calculate the cumalitive sum of the read count column using cumsum()\n",
    "df_b4_dup2['sum'] = df_b4_dup2['read_count'].cumsum()\n",
    "\n",
    "## number of reads = total of sum column\n",
    "total = sum(df_b4_dup2['sum'])\n",
    "\n",
    "## calculate percentage by dividing each cumalitive sum by the total number of reads\n",
    "df_b4_dup2['Percentage'] = (df_b4_dup2['sum'] / total) * 100\n",
    "\n",
    "\n",
    "print(\"Number of reads :\", total)\n",
    "print(\"Total Percentage: \", sum(df_b4_dup2['Percentage']))\n",
    "df_b4_dup2"
   ]
  },
  {
   "cell_type": "markdown",
   "id": "42fa7298",
   "metadata": {},
   "source": [
    "## PLOT"
   ]
  },
  {
   "cell_type": "code",
   "execution_count": null,
   "id": "4b4f50f9",
   "metadata": {},
   "outputs": [],
   "source": [
    "from plotly.subplots import make_subplots\n",
    "import plotly.graph_objects as go\n",
    "\n",
    "\n",
    "## initalize subplots\n",
    "fig = make_subplots(rows=1, cols=2)\n",
    "\n",
    "## create bar chart for 50 bins\n",
    "fig.add_trace(go.Bar(x=df_b4_dup['bins'], y=df_b4_dup['read_count']), 1, 1)\n",
    "\n",
    "## create line curve second subplot\n",
    "fig.add_trace(go.Scatter(x=bins2, y=df_b4_dup2['Percentage']), 1, 2)\n",
    "\n",
    "## update y axes range if needed\n",
    "#fig.update_yaxes(range=[0, 100], row = 1, col = 2)\n",
    "\n",
    "## color\n",
    "fig.update_layout(coloraxis=dict(colorscale='Bluered_r'), showlegend=False)\n",
    "\n",
    "## show plot\n",
    "fig.show()"
   ]
  }
 ],
 "metadata": {
  "kernelspec": {
   "display_name": "Python 3",
   "language": "python",
   "name": "python3"
  },
  "language_info": {
   "codemirror_mode": {
    "name": "ipython",
    "version": 3
   },
   "file_extension": ".py",
   "mimetype": "text/x-python",
   "name": "python",
   "nbconvert_exporter": "python",
   "pygments_lexer": "ipython3",
   "version": "3.9.2"
  }
 },
 "nbformat": 4,
 "nbformat_minor": 5
}
